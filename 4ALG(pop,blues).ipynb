{
 "cells": [
  {
   "cell_type": "code",
   "execution_count": 1,
   "id": "5a75685a-4305-4686-81fb-e5533d1e6e48",
   "metadata": {},
   "outputs": [
    {
     "name": "stderr",
     "output_type": "stream",
     "text": [
      "[nltk_data] Downloading package stopwords to\n",
      "[nltk_data]     C:\\Users\\saite\\AppData\\Roaming\\nltk_data...\n",
      "[nltk_data]   Package stopwords is already up-to-date!\n"
     ]
    }
   ],
   "source": [
    "import pandas as pd\n",
    "from sklearn.model_selection import train_test_split\n",
    "from sklearn.feature_extraction.text import TfidfVectorizer\n",
    "from sklearn.naive_bayes import MultinomialNB\n",
    "from sklearn.metrics import accuracy_score, classification_report\n",
    "from sklearn.decomposition import LatentDirichletAllocation\n",
    "import nltk\n",
    "from nltk.corpus import stopwords\n",
    "\n",
    "# Download NLTK stopwords if not already downloaded\n",
    "nltk.download('stopwords')\n",
    "stop_words = set(stopwords.words('english'))\n",
    "\n",
    "# 1. Load and Preprocess Data\n",
    "# Assume you have a CSV file with columns: 'Artist', 'Song Title', 'Release Year', 'Genre', 'Lyrics', 'Topic', 'Interested'\n",
    "# Load dataset\n",
    "df = pd.read_csv(\"lyrics_data_music.csv\")\n",
    "\n",
    "# Drop rows with any missing values in the important columns\n",
    "df = df.dropna(subset=['Artist', 'Song Title', 'Release Year', 'Genre', 'Lyrics', 'Topic'])\n",
    "\n",
    "# Remove stopwords from lyrics\n",
    "df['Lyrics'] = df['Lyrics'].apply(lambda x: ' '.join([word for word in x.split() if word.lower() not in stop_words]))\n",
    "df['Interested'] = df['Genre'].apply(lambda x: 'Yes' if x in ['pop', 'blues'] else 'No')\n",
    "# 2. Split Data\n",
    "X = df['Lyrics']\n",
    "y = df['Interested']\n",
    "x_train, x_test, y_train, y_test = train_test_split(X, y, test_size=0.2, random_state=42)\n",
    "\n",
    "\n",
    "\n",
    "from sklearn.feature_extraction.text import CountVectorizer\n",
    "vectorizer = CountVectorizer(min_df=0.0, max_df=1.0, max_features=1000, lowercase=True)\n",
    "vectorizer.fit(x_train)\n",
    "x_train = vectorizer.transform(x_train)\n",
    "x_test = vectorizer.transform(x_test)\n",
    "\n",
    "\n",
    "X_train = x_train.astype('float32')\n",
    "y_train = y_train.replace({'No': 0, 'Yes': 1}).astype('float32')\n",
    "X_test = x_test.astype('float32')\n",
    "y_test = y_test.replace({'No': 0, 'Yes': 1}).astype('float32')\n",
    "\n",
    "from sklearn.preprocessing import StandardScaler\n",
    "sc = StandardScaler(with_mean=False)\n",
    "X_train = sc.fit_transform(X_train)\n",
    "X_test = sc.transform(X_test)\n"
   ]
  },
  {
   "cell_type": "markdown",
   "id": "df213035-8bb8-4526-ae44-4a8658c2d300",
   "metadata": {},
   "source": [
    "### Latent Semantic Analysis (LSA) for Topic Reduction with Logistic regression"
   ]
  },
  {
   "cell_type": "code",
   "execution_count": 2,
   "id": "2fd4b7ab-b4d8-470e-b748-e0744490855a",
   "metadata": {},
   "outputs": [
    {
     "name": "stdout",
     "output_type": "stream",
     "text": [
      "Accuracy: 0.598590308370044\n",
      "              precision    recall  f1-score   support\n",
      "\n",
      "         0.0       0.61      0.91      0.73      3351\n",
      "         1.0       0.54      0.15      0.23      2324\n",
      "\n",
      "    accuracy                           0.60      5675\n",
      "   macro avg       0.57      0.53      0.48      5675\n",
      "weighted avg       0.58      0.60      0.53      5675\n",
      "\n"
     ]
    }
   ],
   "source": [
    "from sklearn.decomposition import TruncatedSVD\n",
    "from sklearn.linear_model import LogisticRegression\n",
    "\n",
    "# Dimensionality reduction with LSA\n",
    "lsa = TruncatedSVD(n_components=50, random_state=42)\n",
    "X_train_reduced = lsa.fit_transform(X_train)\n",
    "X_test_reduced = lsa.transform(X_test)\n",
    "\n",
    "# Train a Logistic Regression model\n",
    "logreg = LogisticRegression()\n",
    "logreg.fit(X_train_reduced, y_train)\n",
    "\n",
    "# Evaluate the model\n",
    "y_pred = logreg.predict(X_test_reduced)\n",
    "print(\"Accuracy:\", accuracy_score(y_test, y_pred))\n",
    "print(classification_report(y_test, y_pred))"
   ]
  },
  {
   "cell_type": "code",
   "execution_count": 3,
   "id": "596c627a-9c10-4c4d-a949-6a62441b0afe",
   "metadata": {},
   "outputs": [
    {
     "name": "stdout",
     "output_type": "stream",
     "text": [
      "Requirement already satisfied: xgboost in c:\\users\\saite\\anaconda3\\lib\\site-packages (2.1.3)\n",
      "Requirement already satisfied: numpy in c:\\users\\saite\\anaconda3\\lib\\site-packages (from xgboost) (1.26.4)\n",
      "Requirement already satisfied: scipy in c:\\users\\saite\\anaconda3\\lib\\site-packages (from xgboost) (1.11.4)\n",
      "Note: you may need to restart the kernel to use updated packages.\n"
     ]
    }
   ],
   "source": [
    "pip install xgboost"
   ]
  },
  {
   "cell_type": "markdown",
   "id": "69022031-c145-4693-b807-4f4e7830207a",
   "metadata": {},
   "source": [
    "### Gradient Boosting for Classification"
   ]
  },
  {
   "cell_type": "code",
   "execution_count": 4,
   "id": "777f81ea-59c1-4bfa-8a0e-9f1f2e55bf99",
   "metadata": {},
   "outputs": [
    {
     "name": "stdout",
     "output_type": "stream",
     "text": [
      "Accuracy: 0.6052863436123348\n",
      "              precision    recall  f1-score   support\n",
      "\n",
      "         0.0       0.63      0.82      0.71      3351\n",
      "         1.0       0.53      0.29      0.38      2324\n",
      "\n",
      "    accuracy                           0.61      5675\n",
      "   macro avg       0.58      0.56      0.54      5675\n",
      "weighted avg       0.59      0.61      0.57      5675\n",
      "\n"
     ]
    }
   ],
   "source": [
    "from xgboost import XGBClassifier\n",
    "\n",
    "# Train XGBoost Classifier\n",
    "xgb = XGBClassifier(random_state=42)\n",
    "xgb.fit(X_train, y_train)\n",
    "\n",
    "# Predict and evaluate\n",
    "y_pred = xgb.predict(X_test)\n",
    "print(\"Accuracy:\", accuracy_score(y_test, y_pred))\n",
    "print(classification_report(y_test, y_pred))"
   ]
  },
  {
   "cell_type": "code",
   "execution_count": null,
   "id": "2a232c7c-b4f0-43be-902f-81cb35b63156",
   "metadata": {},
   "outputs": [],
   "source": []
  },
  {
   "cell_type": "markdown",
   "id": "c6ca1931-7ac2-439e-9c7f-4d4fd5597c53",
   "metadata": {},
   "source": [
    "### LSTM"
   ]
  },
  {
   "cell_type": "code",
   "execution_count": 7,
   "id": "613fb1c3-0a3a-4543-850d-ac701dd236d2",
   "metadata": {},
   "outputs": [
    {
     "name": "stderr",
     "output_type": "stream",
     "text": [
      "[nltk_data] Downloading package stopwords to\n",
      "[nltk_data]     C:\\Users\\saite\\AppData\\Roaming\\nltk_data...\n",
      "[nltk_data]   Package stopwords is already up-to-date!\n",
      "C:\\Users\\saite\\anaconda3\\Lib\\site-packages\\keras\\src\\layers\\core\\embedding.py:90: UserWarning: Argument `input_length` is deprecated. Just remove it.\n",
      "  warnings.warn(\n"
     ]
    },
    {
     "name": "stdout",
     "output_type": "stream",
     "text": [
      "Epoch 1/5\n",
      "\u001b[1m710/710\u001b[0m \u001b[32m━━━━━━━━━━━━━━━━━━━━\u001b[0m\u001b[37m\u001b[0m \u001b[1m254s\u001b[0m 206ms/step - accuracy: 0.5956 - loss: 0.6726 - val_accuracy: 0.5908 - val_loss: 0.6665\n",
      "Epoch 2/5\n",
      "\u001b[1m710/710\u001b[0m \u001b[32m━━━━━━━━━━━━━━━━━━━━\u001b[0m\u001b[37m\u001b[0m \u001b[1m127s\u001b[0m 176ms/step - accuracy: 0.6381 - loss: 0.6308 - val_accuracy: 0.6007 - val_loss: 0.6770\n",
      "Epoch 3/5\n",
      "\u001b[1m710/710\u001b[0m \u001b[32m━━━━━━━━━━━━━━━━━━━━\u001b[0m\u001b[37m\u001b[0m \u001b[1m118s\u001b[0m 165ms/step - accuracy: 0.6920 - loss: 0.5750 - val_accuracy: 0.5894 - val_loss: 0.7008\n",
      "Epoch 4/5\n",
      "\u001b[1m710/710\u001b[0m \u001b[32m━━━━━━━━━━━━━━━━━━━━\u001b[0m\u001b[37m\u001b[0m \u001b[1m115s\u001b[0m 161ms/step - accuracy: 0.7345 - loss: 0.5101 - val_accuracy: 0.5831 - val_loss: 0.7485\n",
      "Epoch 5/5\n",
      "\u001b[1m710/710\u001b[0m \u001b[32m━━━━━━━━━━━━━━━━━━━━\u001b[0m\u001b[37m\u001b[0m \u001b[1m102s\u001b[0m 143ms/step - accuracy: 0.7675 - loss: 0.4484 - val_accuracy: 0.5655 - val_loss: 0.8665\n",
      "\u001b[1m178/178\u001b[0m \u001b[32m━━━━━━━━━━━━━━━━━━━━\u001b[0m\u001b[37m\u001b[0m \u001b[1m7s\u001b[0m 39ms/step - accuracy: 0.5596 - loss: 0.8853\n",
      "LSTM Accuracy: 0.5654625296592712\n",
      "\u001b[1m178/178\u001b[0m \u001b[32m━━━━━━━━━━━━━━━━━━━━\u001b[0m\u001b[37m\u001b[0m \u001b[1m8s\u001b[0m 42ms/step\n",
      "              precision    recall  f1-score   support\n",
      "\n",
      "           0       0.63      0.64      0.63      3351\n",
      "           1       0.47      0.46      0.46      2324\n",
      "\n",
      "    accuracy                           0.57      5675\n",
      "   macro avg       0.55      0.55      0.55      5675\n",
      "weighted avg       0.56      0.57      0.56      5675\n",
      "\n"
     ]
    }
   ],
   "source": [
    "import pandas as pd\n",
    "from sklearn.model_selection import train_test_split\n",
    "from sklearn.feature_extraction.text import CountVectorizer\n",
    "from sklearn.metrics import accuracy_score, classification_report\n",
    "import nltk\n",
    "from nltk.corpus import stopwords\n",
    "from tensorflow.keras.preprocessing.text import Tokenizer\n",
    "from tensorflow.keras.preprocessing.sequence import pad_sequences\n",
    "from tensorflow.keras.models import Sequential\n",
    "from tensorflow.keras.layers import Embedding, LSTM, Dense\n",
    "\n",
    "# Download NLTK stopwords if not already downloaded\n",
    "nltk.download('stopwords')\n",
    "stop_words = set(stopwords.words('english'))\n",
    "\n",
    "# 1. Load and Preprocess Data\n",
    "# Assume you have a CSV file with columns: 'Artist', 'Song Title', 'Release Year', 'Genre', 'Lyrics', 'Topic', 'Interested'\n",
    "df = pd.read_csv(\"lyrics_data_music.csv\")\n",
    "\n",
    "# Drop rows with any missing values in the important columns\n",
    "df = df.dropna(subset=['Artist', 'Song Title', 'Release Year', 'Genre', 'Lyrics', 'Topic'])\n",
    "\n",
    "# Remove stopwords from lyrics\n",
    "df['Lyrics'] = df['Lyrics'].apply(lambda x: ' '.join([word for word in x.split() if word.lower() not in stop_words]))\n",
    "df['Interested'] = df['Genre'].apply(lambda x: 'Yes' if x in ['pop', 'blues'] else 'No')\n",
    "\n",
    "# Split Data\n",
    "X = df['Lyrics']\n",
    "y = df['Interested'].replace({'No': 0, 'Yes': 1})  # Convert labels to binary\n",
    "x_train, x_test, y_train, y_test = train_test_split(X, y, test_size=0.2, random_state=42)\n",
    "\n",
    "# 2. Tokenization and Padding for LSTM\n",
    "tokenizer = Tokenizer(num_words=5000)  # Consider top 5000 words\n",
    "tokenizer.fit_on_texts(x_train)\n",
    "\n",
    "x_train_seq = pad_sequences(tokenizer.texts_to_sequences(x_train), maxlen=100)\n",
    "x_test_seq = pad_sequences(tokenizer.texts_to_sequences(x_test), maxlen=100)\n",
    "\n",
    "# 3. Build and Compile LSTM Model\n",
    "model = Sequential([\n",
    "    Embedding(input_dim=5000, output_dim=128, input_length=100),  # Embedding layer\n",
    "    LSTM(128, return_sequences=False),  # LSTM layer\n",
    "    Dense(1, activation='sigmoid')  # Output layer for binary classification\n",
    "])\n",
    "\n",
    "model.compile(optimizer='adam', loss='binary_crossentropy', metrics=['accuracy'])\n",
    "\n",
    "# 4. Train the Model\n",
    "model.fit(x_train_seq, y_train, epochs=5, batch_size=32, validation_data=(x_test_seq, y_test))\n",
    "\n",
    "# 5. Evaluate the Model\n",
    "loss, accuracy = model.evaluate(x_test_seq, y_test)\n",
    "print(\"LSTM Accuracy:\", accuracy)\n",
    "\n",
    "# Optional: Classification Report\n",
    "y_pred = (model.predict(x_test_seq) > 0.5).astype(\"int32\")\n",
    "print(classification_report(y_test, y_pred))\n"
   ]
  },
  {
   "cell_type": "markdown",
   "id": "d78284f9-0b4b-4417-87b1-9f2059cc88cc",
   "metadata": {},
   "source": [
    "### Autoencoders for Feature Extraction"
   ]
  },
  {
   "cell_type": "code",
   "execution_count": 8,
   "id": "5b845cdd-ff4e-4b13-9491-c9318578dfa0",
   "metadata": {},
   "outputs": [
    {
     "name": "stderr",
     "output_type": "stream",
     "text": [
      "C:\\Users\\saite\\anaconda3\\Lib\\site-packages\\keras\\src\\layers\\core\\dense.py:87: UserWarning: Do not pass an `input_shape`/`input_dim` argument to a layer. When using Sequential models, prefer using an `Input(shape)` object as the first layer in the model instead.\n",
      "  super().__init__(activity_regularizer=activity_regularizer, **kwargs)\n"
     ]
    },
    {
     "name": "stdout",
     "output_type": "stream",
     "text": [
      "Epoch 1/5\n",
      "\u001b[1m710/710\u001b[0m \u001b[32m━━━━━━━━━━━━━━━━━━━━\u001b[0m\u001b[37m\u001b[0m \u001b[1m19s\u001b[0m 18ms/step - loss: 1.0241 - val_loss: 1.1113\n",
      "Epoch 2/5\n",
      "\u001b[1m710/710\u001b[0m \u001b[32m━━━━━━━━━━━━━━━━━━━━\u001b[0m\u001b[37m\u001b[0m \u001b[1m12s\u001b[0m 16ms/step - loss: 1.0056 - val_loss: 1.1122\n",
      "Epoch 3/5\n",
      "\u001b[1m710/710\u001b[0m \u001b[32m━━━━━━━━━━━━━━━━━━━━\u001b[0m\u001b[37m\u001b[0m \u001b[1m11s\u001b[0m 16ms/step - loss: 1.0149 - val_loss: 1.1128\n",
      "Epoch 4/5\n",
      "\u001b[1m710/710\u001b[0m \u001b[32m━━━━━━━━━━━━━━━━━━━━\u001b[0m\u001b[37m\u001b[0m \u001b[1m11s\u001b[0m 16ms/step - loss: 1.0186 - val_loss: 1.1133\n",
      "Epoch 5/5\n",
      "\u001b[1m710/710\u001b[0m \u001b[32m━━━━━━━━━━━━━━━━━━━━\u001b[0m\u001b[37m\u001b[0m \u001b[1m11s\u001b[0m 16ms/step - loss: 1.0007 - val_loss: 1.0852\n",
      "\u001b[1m710/710\u001b[0m \u001b[32m━━━━━━━━━━━━━━━━━━━━\u001b[0m\u001b[37m\u001b[0m \u001b[1m2s\u001b[0m 3ms/step\n",
      "\u001b[1m178/178\u001b[0m \u001b[32m━━━━━━━━━━━━━━━━━━━━\u001b[0m\u001b[37m\u001b[0m \u001b[1m1s\u001b[0m 5ms/step\n",
      "Accuracy: 0.5973568281938326\n"
     ]
    },
    {
     "name": "stderr",
     "output_type": "stream",
     "text": [
      "C:\\Users\\saite\\anaconda3\\Lib\\site-packages\\sklearn\\linear_model\\_logistic.py:458: ConvergenceWarning: lbfgs failed to converge (status=1):\n",
      "STOP: TOTAL NO. of ITERATIONS REACHED LIMIT.\n",
      "\n",
      "Increase the number of iterations (max_iter) or scale the data as shown in:\n",
      "    https://scikit-learn.org/stable/modules/preprocessing.html\n",
      "Please also refer to the documentation for alternative solver options:\n",
      "    https://scikit-learn.org/stable/modules/linear_model.html#logistic-regression\n",
      "  n_iter_i = _check_optimize_result(\n"
     ]
    }
   ],
   "source": [
    "from tensorflow.keras.models import Sequential\n",
    "from tensorflow.keras.layers import Dense\n",
    "\n",
    "# Define the Autoencoder\n",
    "autoencoder = Sequential([\n",
    "    Dense(512, activation='relu', input_shape=(X_train.shape[1],)),\n",
    "    Dense(256, activation='relu'),\n",
    "    Dense(128, activation='relu'),  # Bottleneck layer\n",
    "    Dense(256, activation='relu'),\n",
    "    Dense(512, activation='relu'),\n",
    "    Dense(X_train.shape[1], activation='sigmoid')\n",
    "])\n",
    "\n",
    "autoencoder.compile(optimizer='adam', loss='mse')\n",
    "\n",
    "# Train the Autoencoder\n",
    "autoencoder.fit(X_train.toarray(), X_train.toarray(), epochs=5, batch_size=32, validation_data=(X_test.toarray(), X_test.toarray()))\n",
    "\n",
    "# Extract features from the bottleneck layer\n",
    "encoder = Sequential(autoencoder.layers[:3])\n",
    "X_train_encoded = encoder.predict(X_train.toarray())\n",
    "X_test_encoded = encoder.predict(X_test.toarray())\n",
    "\n",
    "# Train a classifier on the encoded features\n",
    "logreg = LogisticRegression()\n",
    "logreg.fit(X_train_encoded, y_train)\n",
    "y_pred = logreg.predict(X_test_encoded)\n",
    "print(\"Accuracy:\", accuracy_score(y_test, y_pred))"
   ]
  },
  {
   "cell_type": "code",
   "execution_count": null,
   "id": "658a8d1f-37e9-4515-82e3-ccf67b606754",
   "metadata": {},
   "outputs": [],
   "source": []
  },
  {
   "cell_type": "code",
   "execution_count": null,
   "id": "3311a6c0-7892-41f6-a147-035dc4af604e",
   "metadata": {},
   "outputs": [],
   "source": []
  }
 ],
 "metadata": {
  "kernelspec": {
   "display_name": "Python 3 (ipykernel)",
   "language": "python",
   "name": "python3"
  },
  "language_info": {
   "codemirror_mode": {
    "name": "ipython",
    "version": 3
   },
   "file_extension": ".py",
   "mimetype": "text/x-python",
   "name": "python",
   "nbconvert_exporter": "python",
   "pygments_lexer": "ipython3",
   "version": "3.11.7"
  }
 },
 "nbformat": 4,
 "nbformat_minor": 5
}
